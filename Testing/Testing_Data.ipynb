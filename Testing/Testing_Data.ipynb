{
 "cells": [
  {
   "cell_type": "code",
   "execution_count": null,
   "metadata": {},
   "outputs": [],
   "source": [
    "import pandas as pd\n",
    "import numpy as np\n",
    "import matplotlib.pyplot as plt\n",
    "from datetime import datetime, timedelta\n",
    "from datetime import date\n",
    "from pandas.plotting import register_matplotlib_converters\n",
    "register_matplotlib_converters()\n",
    "\n",
    "#%matplotlib inline\n",
    "pd.options.display.max_columns = 100\n",
    "pd.options.display.max_rows = 300\n",
    "\n",
    "from IPython.core.interactiveshell import InteractiveShell\n",
    "InteractiveShell.ast_node_interactivity = \"all\"\n",
    "\n",
    "from IPython.core.display import display, HTML\n",
    "display(HTML(\"<style>.container { width:95% !important; }</style>\"))"
   ]
  },
  {
   "cell_type": "markdown",
   "metadata": {},
   "source": [
    "### COVIDTracking Testing Data"
   ]
  },
  {
   "cell_type": "code",
   "execution_count": null,
   "metadata": {},
   "outputs": [],
   "source": [
    "df = pd.read_csv('https://raw.githubusercontent.com/COVID19Tracking/covid-tracking-data/master/data/states_daily_4pm_et.csv')\n",
    "df.head(5)"
   ]
  },
  {
   "cell_type": "code",
   "execution_count": null,
   "metadata": {},
   "outputs": [],
   "source": [
    "tests = df.groupby('date').agg({'positive':'sum', 'total':'sum'})\n",
    "tests.reset_index(inplace=True)\n",
    "tests['date'] = tests['date'].astype(str).apply(lambda x: datetime.strptime(x, '%Y%m%d').date())\n",
    "\n",
    "most_recent_test_date = tests.date.max()\n",
    "recent_tests = tests[tests['date'] == most_recent_test_date]['total'].values[0]\n",
    "week1_prior_test_date = tests.date.max() - timedelta(days=7)\n",
    "week1_prior_tests = tests[tests['date'] == week1_prior_test_date]['total'].values[0]\n",
    "week2_prior_test_date = tests.date.max() - timedelta(days=14)\n",
    "week2_prior_tests = tests[tests['date'] == week2_prior_test_date]['total'].values[0]\n",
    "\n",
    "print('Number of cumulative tests on ' + str(most_recent_test_date) + ': ' + str(recent_tests))\n",
    "print('Number of cumulative tests on ' + str(week1_prior_test_date) + ': ' + str(week1_prior_tests))\n",
    "print('Number of cumulative tests on ' + str(week2_prior_test_date) + ': ' + str(week2_prior_tests))\n",
    "print('')\n",
    "print('Percent increase over previous week (' + str(week1_prior_test_date)+' to '+ str(most_recent_test_date) + '): ' + str(round((recent_tests/week1_prior_tests-1)*100, 2)) + '%')\n",
    "print('Percent increase over previous week (' + str(week2_prior_test_date)+' to '+ str(week1_prior_test_date) + '): ' + str(round((week1_prior_tests/week2_prior_tests-1)*100, 2)) + '%')\n",
    "print('Percent WOW increase over the past 2 weeks: ' + str(round(((recent_tests-week1_prior_tests)/(week1_prior_tests-week2_prior_tests)-1)*100, 2)) + '%')"
   ]
  },
  {
   "cell_type": "code",
   "execution_count": null,
   "metadata": {},
   "outputs": [],
   "source": [
    "tests['daily_diff'] = tests['total'].diff()\n",
    "tests['pos_diff'] = tests['positive'].diff()\n",
    "tests['pos_perc'] = round(tests['positive']/tests['total'], 3)*100\n",
    "tests.set_index('date', inplace=True)\n",
    "test_df = tests[datetime(2020,3,1).date():]\n",
    "\n",
    "plt.figure(figsize=(10,6))\n",
    "plt.xticks(rotation=45)\n",
    "plt.ylabel('# of Tests', size=16)\n",
    "plt.title('Daily Number of US Tests', size=24)\n",
    "plt.axvline(most_recent_test_date, color='r', linestyle='solid')\n",
    "plt.axvline(week1_prior_test_date, color='r', linestyle='solid')\n",
    "plt.axvline(week2_prior_test_date, color='r', linestyle='solid')\n",
    "plt.plot(test_df.daily_diff);"
   ]
  },
  {
   "cell_type": "code",
   "execution_count": null,
   "metadata": {},
   "outputs": [],
   "source": [
    "test_df.tail(2)['daily_diff'][0]"
   ]
  },
  {
   "cell_type": "code",
   "execution_count": null,
   "metadata": {},
   "outputs": [],
   "source": [
    "test_df.loc[test_df.index.max(), 'daily_diff'] = test_df.tail(2)['daily_diff'][0]\n",
    "test_df.loc[test_df.index.max(), 'pos_diff'] = test_df.tail(2)['pos_diff'][0]\n",
    "test_df"
   ]
  },
  {
   "cell_type": "code",
   "execution_count": null,
   "metadata": {},
   "outputs": [],
   "source": [
    "fig, ax1 = plt.subplots(figsize=(12,8))\n",
    "\n",
    "fig.suptitle('Daily Positive vs Daily Total Tests', size=24)\n",
    "ax1.set_xlabel('Date', size=16)\n",
    "ax1.set_ylabel('Number of Tests', size=16)\n",
    "ax1.ticklabel_format(useOffset=False, style='plain')\n",
    "ax1.tick_params('x', labelrotation=30)\n",
    "ax1.plot(test_df.daily_diff, linewidth=3, color='r', label='Total Daily Tests')\n",
    "ax1.plot(test_df.pos_diff, linewidth=3, color='b', label='Total Daily Positives')\n",
    "\n",
    "ax2 = ax1.twinx()\n",
    "\n",
    "ax2.set_ylabel('% of Positive Tests', size=16)\n",
    "ax2.plot(test_df.pos_perc, linewidth=3, color='g', label='Daily % of Positive Tests', linestyle='--')\n",
    "\n",
    "fig.legend(bbox_to_anchor=(0.57, 0.85));"
   ]
  },
  {
   "cell_type": "code",
   "execution_count": null,
   "metadata": {},
   "outputs": [],
   "source": [
    "fig, ax1 = plt.subplots(figsize=(12,8))\n",
    "\n",
    "fig.suptitle('Positive vs Total Tests', size=24)\n",
    "ax1.set_xlabel('Date', size=16)\n",
    "ax1.set_ylabel('Number of Tests', size=16)\n",
    "ax1.ticklabel_format(useOffset=False, style='plain')\n",
    "ax1.tick_params('x', labelrotation=30)\n",
    "ax1.plot(test_df.total, linewidth=3, color='r', label='Total Daily Tests')\n",
    "ax1.plot(test_df.positive, linewidth=3, color='b', label='Total Daily Positives')\n",
    "\n",
    "ax2 = ax1.twinx()\n",
    "\n",
    "ax2.set_ylabel('% of Positive Tests', size=16)\n",
    "ax2.plot(test_df.pos_perc, linewidth=3, color='g', label='Daily % of Positive Tests', linestyle='--')\n",
    "\n",
    "fig.legend(bbox_to_anchor=(0.57, 0.85));"
   ]
  },
  {
   "cell_type": "code",
   "execution_count": null,
   "metadata": {},
   "outputs": [],
   "source": [
    "10722642/3735102"
   ]
  },
  {
   "cell_type": "code",
   "execution_count": null,
   "metadata": {},
   "outputs": [],
   "source": [
    "1433696.0/724047.0"
   ]
  },
  {
   "cell_type": "code",
   "execution_count": null,
   "metadata": {},
   "outputs": [],
   "source": []
  }
 ],
 "metadata": {
  "kernelspec": {
   "display_name": "Python (ncsu)",
   "language": "python",
   "name": "ncsu"
  },
  "language_info": {
   "codemirror_mode": {
    "name": "ipython",
    "version": 3
   },
   "file_extension": ".py",
   "mimetype": "text/x-python",
   "name": "python",
   "nbconvert_exporter": "python",
   "pygments_lexer": "ipython3",
   "version": "3.7.4"
  }
 },
 "nbformat": 4,
 "nbformat_minor": 2
}
