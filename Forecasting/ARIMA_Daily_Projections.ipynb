{
 "cells": [
  {
   "cell_type": "code",
   "execution_count": null,
   "metadata": {},
   "outputs": [],
   "source": [
    "import pandas as pd\n",
    "import numpy as np\n",
    "import matplotlib.pyplot as plt\n",
    "from datetime import datetime, timedelta\n",
    "from datetime import date\n",
    "from statsmodels.tsa.stattools import adfuller\n",
    "from statsmodels.tsa.seasonal import seasonal_decompose\n",
    "from statsmodels.tsa.arima_model import ARIMA\n",
    "from pandas.plotting import register_matplotlib_converters\n",
    "register_matplotlib_converters()\n",
    "\n",
    "#%matplotlib inline\n",
    "pd.options.display.max_columns = 100\n",
    "pd.options.display.max_rows = 300\n",
    "\n",
    "from IPython.core.interactiveshell import InteractiveShell\n",
    "InteractiveShell.ast_node_interactivity = \"all\"\n",
    "\n",
    "from IPython.core.display import display, HTML\n",
    "display(HTML(\"<style>.container { width:95% !important; }</style>\"))"
   ]
  },
  {
   "cell_type": "markdown",
   "metadata": {},
   "source": [
    "### JHU Data for ARIMA Daily Model"
   ]
  },
  {
   "cell_type": "code",
   "execution_count": null,
   "metadata": {},
   "outputs": [],
   "source": [
    "df=pd.read_csv('https://raw.githubusercontent.com/CSSEGISandData/COVID-19/master/csse_covid_19_data/csse_covid_19_time_series/time_series_covid19_confirmed_global.csv')\n",
    "\n",
    "us_df = df[df['Country/Region'] == 'US']\n",
    "\n",
    "us_df = us_df.T\n",
    "us_df.reset_index(inplace=True)\n",
    "us_df = us_df.iloc[4:,]\n",
    "us_df.reset_index(drop=True, inplace=True)\n",
    "us_df.rename(columns={'index':'date', 225:'counts'}, inplace=True)\n",
    "us_df['date'] = us_df.date.apply(lambda x: pd.to_datetime(str(x), format=\"%m/%d/%y\"))\n",
    "\n",
    "us_df['daily_diff'] = us_df['counts'].diff()\n",
    "us_df.loc[0, 'daily_diff'] = 0\n",
    "us_df.set_index('date', inplace=True)\n",
    "us_daily = us_df[['daily_diff']].copy()\n",
    "us_daily['daily_diff'] = us_daily['daily_diff'].astype(int)"
   ]
  },
  {
   "cell_type": "code",
   "execution_count": null,
   "metadata": {},
   "outputs": [],
   "source": [
    "plt.figure(figsize=(10,6))\n",
    "plt.title('Daily Case Counts in US', fontname='Arial', size=24)\n",
    "plt.xticks(rotation=45)\n",
    "plt.plot(us_daily, color='#003366', linewidth=3);"
   ]
  },
  {
   "cell_type": "code",
   "execution_count": null,
   "metadata": {},
   "outputs": [],
   "source": [
    "model = ARIMA(us_daily, order=(7,1,1))\n",
    "daily_fit = model.fit()"
   ]
  },
  {
   "cell_type": "code",
   "execution_count": null,
   "metadata": {},
   "outputs": [],
   "source": [
    "forecast = daily_fit.forecast(21)\n",
    "forecast"
   ]
  },
  {
   "cell_type": "code",
   "execution_count": null,
   "metadata": {},
   "outputs": [],
   "source": [
    "len(forecast[0])"
   ]
  },
  {
   "cell_type": "code",
   "execution_count": null,
   "metadata": {},
   "outputs": [],
   "source": [
    "us_daily.reset_index(inplace=True)\n",
    "\n",
    "# create loop dates and positions to label the x_axis\n",
    "s_date = us_daily.date[0]\n",
    "e_date = us_daily.date.max() + timedelta(days=len(forecast[0]))\n",
    "delta = timedelta(days=4)\n",
    "position=[]\n",
    "n = 0\n",
    "dates = []\n",
    "while s_date <= e_date:\n",
    "    position.append(n)\n",
    "    n = n+4\n",
    "    s_date.strftime(\"%Y-%m-%d\")\n",
    "    dates.append(str(s_date.month)+'-'+str(s_date.day))\n",
    "    s_date += delta\n",
    "\n",
    "dummy=[];"
   ]
  },
  {
   "cell_type": "code",
   "execution_count": null,
   "metadata": {
    "scrolled": false
   },
   "outputs": [],
   "source": [
    "plt.figure(figsize=(12,8))\n",
    "plt.title('Daily Case Projections in US', fontname='Arial', size=24)\n",
    "plt.xticks(position, dates, rotation=45)\n",
    "plt.xlabel('Date', fontname='Arial', size=16)\n",
    "plt.ylabel('Number of Cases', fontname='Arial', size=16)\n",
    "plt.plot(np.arange(0, us_daily.shape[0]) ,us_daily['daily_diff'].values, color='#003366', linewidth=3, label='US Daily Cases')\n",
    "plt.plot(np.arange(us_daily.shape[0], us_daily.shape[0]+len(forecast[0])), forecast[0], color='#7D98C1', linewidth=3, linestyle='-', label='Projected US Daily Cases')\n",
    "plt.plot(np.arange(us_daily.shape[0], us_daily.shape[0]+len(forecast[0])), forecast[2][0:], color='#C01933', linestyle=':', label='Projected Upper/Low ')\n",
    "plt.legend()\n",
    "x_coor = us_daily.shape[0]\n",
    "for i in range(0,len(forecast[0])):\n",
    "    plt.fill_between(range(x_coor, x_coor+1), forecast[2][i][0], forecast[2][i][1], color='#D0D0CE', alpha=0.5, linewidth=3)\n",
    "    x_coor +=1\n",
    "\n",
    "dummy=[];"
   ]
  },
  {
   "cell_type": "code",
   "execution_count": null,
   "metadata": {},
   "outputs": [],
   "source": [
    "st_date = date.today() - timedelta(days=1)\n",
    "\n",
    "curr_date = us_df.iloc[-1:]\n",
    "curr_date.reset_index(inplace=True)\n",
    "curr_date.loc[0, 'date'] = curr_date.date[0].strftime('%-m/%-d/%y') \n",
    "curr_date = curr_date[['date', 'counts']].copy()\n",
    "curr_date.set_index('date', inplace=True)\n",
    "\n",
    "cols = ['date', 'counts', 'Lower', 'Med', 'Upper']\n",
    "predictions = [[st_date.strftime('%-m/%-d/%y'),\n",
    "               curr_date['counts'][0],\n",
    "               curr_date['counts'][0],\n",
    "               curr_date['counts'][0],\n",
    "               curr_date['counts'][0]]\n",
    "              ]\n",
    "\n",
    "n=1\n",
    "\n",
    "for i in np.arange(0, len(forecast[0])):\n",
    "    date = st_date + timedelta(days=n)\n",
    "    n = n + 1\n",
    "    date = date.strftime('%-m/%-d/%y')\n",
    "    counts = ''\n",
    "    pred = forecast[0][i]\n",
    "    lower = forecast[2][i][0]\n",
    "    upper = forecast[2][i][1]\n",
    "    predictions.append([date, counts, lower, pred, upper])\n",
    "\n",
    "projections = pd.DataFrame(predictions, columns=cols)\n",
    "projections.set_index('date', inplace=True)\n",
    "projections.index.name = None\n",
    "projections['Lower CI'] = np.cumsum(projections['Lower'])\n",
    "projections['Medium'] = np.cumsum(projections['Med'])\n",
    "projections['Upper CI'] = np.cumsum(projections['Upper'])\n",
    "projections.drop(['Lower', 'Med', 'Upper'], axis=1, inplace=True)\n",
    "projections\n",
    "\n",
    "#projections.to_csv('test.csv')"
   ]
  },
  {
   "cell_type": "code",
   "execution_count": null,
   "metadata": {},
   "outputs": [],
   "source": []
  },
  {
   "cell_type": "code",
   "execution_count": null,
   "metadata": {},
   "outputs": [],
   "source": []
  }
 ],
 "metadata": {
  "kernelspec": {
   "display_name": "Python 3",
   "language": "python",
   "name": "python3"
  },
  "language_info": {
   "codemirror_mode": {
    "name": "ipython",
    "version": 3
   },
   "file_extension": ".py",
   "mimetype": "text/x-python",
   "name": "python",
   "nbconvert_exporter": "python",
   "pygments_lexer": "ipython3",
   "version": "3.7.4"
  }
 },
 "nbformat": 4,
 "nbformat_minor": 2
}
